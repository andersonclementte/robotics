{
 "cells": [
  {
   "cell_type": "code",
   "execution_count": 1,
   "id": "cec39cd1",
   "metadata": {},
   "outputs": [
    {
     "name": "stdout",
     "output_type": "stream",
     "text": [
      "Requirement already satisfied: roboticstoolbox-python in c:\\users\\ander\\anaconda3\\lib\\site-packages (1.0.1)\n",
      "Requirement already satisfied: pgraph-python in c:\\users\\ander\\anaconda3\\lib\\site-packages (from roboticstoolbox-python) (0.6.1)\n",
      "Requirement already satisfied: swift-sim~=1.0.0 in c:\\users\\ander\\anaconda3\\lib\\site-packages (from roboticstoolbox-python) (1.0.0)\n",
      "Requirement already satisfied: scipy in c:\\users\\ander\\anaconda3\\lib\\site-packages (from roboticstoolbox-python) (1.7.3)\n",
      "Requirement already satisfied: spatialgeometry~=1.0.0 in c:\\users\\ander\\anaconda3\\lib\\site-packages (from roboticstoolbox-python) (1.0.1)\n",
      "Requirement already satisfied: ansitable in c:\\users\\ander\\anaconda3\\lib\\site-packages (from roboticstoolbox-python) (0.9.6)\n",
      "Requirement already satisfied: spatialmath-python~=1.0.0 in c:\\users\\ander\\anaconda3\\lib\\site-packages (from roboticstoolbox-python) (1.0.0)\n",
      "Requirement already satisfied: rtb-data in c:\\users\\ander\\anaconda3\\lib\\site-packages (from roboticstoolbox-python) (1.0.0)\n",
      "Requirement already satisfied: progress in c:\\users\\ander\\anaconda3\\lib\\site-packages (from roboticstoolbox-python) (1.6)\n",
      "Requirement already satisfied: matplotlib in c:\\users\\ander\\anaconda3\\lib\\site-packages (from roboticstoolbox-python) (3.5.1)\n",
      "Requirement already satisfied: numpy>=1.17.4 in c:\\users\\ander\\anaconda3\\lib\\site-packages (from roboticstoolbox-python) (1.22.4)\n",
      "Requirement already satisfied: colored in c:\\users\\ander\\anaconda3\\lib\\site-packages (from spatialmath-python~=1.0.0->roboticstoolbox-python) (1.4.3)\n",
      "Requirement already satisfied: websockets in c:\\users\\ander\\anaconda3\\lib\\site-packages (from swift-sim~=1.0.0->roboticstoolbox-python) (10.3)\n",
      "Requirement already satisfied: pyparsing>=2.2.1 in c:\\users\\ander\\anaconda3\\lib\\site-packages (from matplotlib->roboticstoolbox-python) (3.0.4)\n",
      "Requirement already satisfied: packaging>=20.0 in c:\\users\\ander\\anaconda3\\lib\\site-packages (from matplotlib->roboticstoolbox-python) (21.3)\n",
      "Requirement already satisfied: fonttools>=4.22.0 in c:\\users\\ander\\anaconda3\\lib\\site-packages (from matplotlib->roboticstoolbox-python) (4.25.0)\n",
      "Requirement already satisfied: cycler>=0.10 in c:\\users\\ander\\anaconda3\\lib\\site-packages (from matplotlib->roboticstoolbox-python) (0.11.0)\n",
      "Requirement already satisfied: pillow>=6.2.0 in c:\\users\\ander\\anaconda3\\lib\\site-packages (from matplotlib->roboticstoolbox-python) (9.0.1)\n",
      "Requirement already satisfied: python-dateutil>=2.7 in c:\\users\\ander\\anaconda3\\lib\\site-packages (from matplotlib->roboticstoolbox-python) (2.8.2)\n",
      "Requirement already satisfied: kiwisolver>=1.0.1 in c:\\users\\ander\\anaconda3\\lib\\site-packages (from matplotlib->roboticstoolbox-python) (1.3.2)\n",
      "Requirement already satisfied: six>=1.5 in c:\\users\\ander\\anaconda3\\lib\\site-packages (from python-dateutil>=2.7->matplotlib->roboticstoolbox-python) (1.16.0)\n",
      "Note: you may need to restart the kernel to use updated packages.\n"
     ]
    }
   ],
   "source": [
    "pip install roboticstoolbox-python"
   ]
  },
  {
   "cell_type": "code",
   "execution_count": 2,
   "id": "808657e8",
   "metadata": {},
   "outputs": [
    {
     "name": "stdout",
     "output_type": "stream",
     "text": [
      "Requirement already satisfied: numpy in c:\\users\\ander\\anaconda3\\lib\\site-packages (1.22.4)\n",
      "Note: you may need to restart the kernel to use updated packages.\n"
     ]
    }
   ],
   "source": [
    "pip install numpy"
   ]
  },
  {
   "cell_type": "code",
   "execution_count": 3,
   "id": "db4e97cf",
   "metadata": {},
   "outputs": [],
   "source": [
    "'''IMPORTS'''\n",
    "%matplotlib Qt\n",
    "import roboticstoolbox as rtb\n",
    "import math\n",
    "\n",
    "'''CONSTANTES'''\n",
    "PI = math.pi"
   ]
  },
  {
   "cell_type": "code",
   "execution_count": 4,
   "id": "b0a674cd",
   "metadata": {},
   "outputs": [
    {
     "name": "stdout",
     "output_type": "stream",
     "text": [
      "DHRobot: Scara, 4 joints (RRRR), dynamics, standard DH parameters\n",
      "┌────┬──────┬───────┬────────┐\n",
      "│θⱼ  │  dⱼ  │  aⱼ   │   ⍺ⱼ   │\n",
      "├────┼──────┼───────┼────────┤\n",
      "│ q1 │    0 │ 0.475 │   0.0° │\n",
      "│ q2 │    0 │   0.4 │   0.0° │\n",
      "│ q3 │ 0.05 │     0 │ 180.0° │\n",
      "│ q4 │  0.1 │     0 │   0.0° │\n",
      "└────┴──────┴───────┴────────┘\n",
      "\n",
      "┌─┬──┐\n",
      "└─┴──┘\n",
      "\n"
     ]
    },
    {
     "data": {
      "text/plain": [
       "PyPlot3D backend, t = 0.05, scene:\n",
       "  Scara"
      ]
     },
     "execution_count": 4,
     "metadata": {},
     "output_type": "execute_result"
    }
   ],
   "source": [
    "robot = rtb.DHRobot(\n",
    "    [\n",
    "        rtb.RevoluteDH(a=0.475),\n",
    "        rtb.RevoluteDH(a=0.4),\n",
    "        rtb.RevoluteDH(d= 0.05, alpha=PI),\n",
    "        rtb.RevoluteDH(d=0.1)\n",
    "    ], name=\"Scara\")\n",
    "print(robot)\n",
    "robot.plot([0,0,0,0])"
   ]
  },
  {
   "cell_type": "code",
   "execution_count": null,
   "id": "cdfba6de",
   "metadata": {},
   "outputs": [],
   "source": [
    "robot.fkine([0,0,0,0])"
   ]
  },
  {
   "cell_type": "code",
   "execution_count": null,
   "id": "9484632d",
   "metadata": {},
   "outputs": [],
   "source": [
    "robot.fkine([PI/2, -PI/2, 0, 0])"
   ]
  },
  {
   "cell_type": "code",
   "execution_count": null,
   "id": "7476b1e9",
   "metadata": {},
   "outputs": [],
   "source": [
    "robot.fkine([PI/2, -PI/2, 0, 0])"
   ]
  },
  {
   "cell_type": "code",
   "execution_count": 7,
   "id": "78db7ebc",
   "metadata": {},
   "outputs": [
    {
     "ename": "AttributeError",
     "evalue": "'list' object has no attribute 'shape'",
     "output_type": "error",
     "traceback": [
      "\u001b[1;31m---------------------------------------------------------------------------\u001b[0m",
      "\u001b[1;31mValueError\u001b[0m                                Traceback (most recent call last)",
      "File \u001b[1;32m~\\anaconda3\\lib\\site-packages\\roboticstoolbox\\robot\\DHRobot.py:1398\u001b[0m, in \u001b[0;36mDHRobot.rne\u001b[1;34m(self, q, qd, qdd, gravity, fext, base_wrench)\u001b[0m\n\u001b[0;32m   1397\u001b[0m \u001b[38;5;28;01mtry\u001b[39;00m:\n\u001b[1;32m-> 1398\u001b[0m     q \u001b[38;5;241m=\u001b[39m \u001b[43mgetvector\u001b[49m\u001b[43m(\u001b[49m\u001b[43mq\u001b[49m\u001b[43m,\u001b[49m\u001b[43m \u001b[49m\u001b[38;5;28;43mself\u001b[39;49m\u001b[38;5;241;43m.\u001b[39;49m\u001b[43mn\u001b[49m\u001b[43m,\u001b[49m\u001b[43m \u001b[49m\u001b[38;5;124;43m\"\u001b[39;49m\u001b[38;5;124;43mrow\u001b[39;49m\u001b[38;5;124;43m\"\u001b[39;49m\u001b[43m)\u001b[49m\n\u001b[0;32m   1399\u001b[0m     qd \u001b[38;5;241m=\u001b[39m getvector(qd, \u001b[38;5;28mself\u001b[39m\u001b[38;5;241m.\u001b[39mn, \u001b[38;5;124m\"\u001b[39m\u001b[38;5;124mrow\u001b[39m\u001b[38;5;124m\"\u001b[39m)\n",
      "File \u001b[1;32m~\\anaconda3\\lib\\site-packages\\spatialmath\\base\\argcheck.py:333\u001b[0m, in \u001b[0;36mgetvector\u001b[1;34m(v, dim, out, dtype)\u001b[0m\n\u001b[0;32m    332\u001b[0m \u001b[38;5;28;01mif\u001b[39;00m dim \u001b[38;5;129;01mis\u001b[39;00m \u001b[38;5;129;01mnot\u001b[39;00m \u001b[38;5;28;01mNone\u001b[39;00m \u001b[38;5;129;01mand\u001b[39;00m v \u001b[38;5;129;01mand\u001b[39;00m \u001b[38;5;28mlen\u001b[39m(v) \u001b[38;5;241m!=\u001b[39m dim:\n\u001b[1;32m--> 333\u001b[0m     \u001b[38;5;28;01mraise\u001b[39;00m \u001b[38;5;167;01mValueError\u001b[39;00m(\u001b[38;5;124m\"\u001b[39m\u001b[38;5;124mincorrect vector length\u001b[39m\u001b[38;5;124m\"\u001b[39m)\n\u001b[0;32m    334\u001b[0m \u001b[38;5;28;01mif\u001b[39;00m out \u001b[38;5;241m==\u001b[39m \u001b[38;5;124m\"\u001b[39m\u001b[38;5;124msequence\u001b[39m\u001b[38;5;124m\"\u001b[39m:\n",
      "\u001b[1;31mValueError\u001b[0m: incorrect vector length",
      "\nDuring handling of the above exception, another exception occurred:\n",
      "\u001b[1;31mAttributeError\u001b[0m                            Traceback (most recent call last)",
      "Input \u001b[1;32mIn [7]\u001b[0m, in \u001b[0;36m<cell line: 1>\u001b[1;34m()\u001b[0m\n\u001b[1;32m----> 1\u001b[0m \u001b[43mrobot\u001b[49m\u001b[38;5;241;43m.\u001b[39;49m\u001b[43mrne\u001b[49m\u001b[43m(\u001b[49m\u001b[43m[\u001b[49m\u001b[38;5;241;43m0.2\u001b[39;49m\u001b[43m,\u001b[49m\u001b[43m \u001b[49m\u001b[38;5;241;43m0.1\u001b[39;49m\u001b[43m,\u001b[49m\u001b[43m \u001b[49m\u001b[38;5;241;43m-\u001b[39;49m\u001b[38;5;241;43m0.015\u001b[39;49m\u001b[43m]\u001b[49m\u001b[43m)\u001b[49m\n",
      "File \u001b[1;32m~\\anaconda3\\lib\\site-packages\\roboticstoolbox\\robot\\DHLink.py:50\u001b[0m, in \u001b[0;36m_check_rne.<locals>.wrapper_check_rne\u001b[1;34m(*args, **kwargs)\u001b[0m\n\u001b[0;32m     48\u001b[0m     args[\u001b[38;5;241m0\u001b[39m]\u001b[38;5;241m.\u001b[39m_init_rne()\n\u001b[0;32m     49\u001b[0m args[\u001b[38;5;241m0\u001b[39m]\u001b[38;5;241m.\u001b[39m_rne_changed \u001b[38;5;241m=\u001b[39m \u001b[38;5;28;01mFalse\u001b[39;00m\n\u001b[1;32m---> 50\u001b[0m \u001b[38;5;28;01mreturn\u001b[39;00m func(\u001b[38;5;241m*\u001b[39margs, \u001b[38;5;241m*\u001b[39m\u001b[38;5;241m*\u001b[39mkwargs)\n",
      "File \u001b[1;32m~\\anaconda3\\lib\\site-packages\\roboticstoolbox\\robot\\DHRobot.py:1402\u001b[0m, in \u001b[0;36mDHRobot.rne\u001b[1;34m(self, q, qd, qdd, gravity, fext, base_wrench)\u001b[0m\n\u001b[0;32m   1400\u001b[0m     qdd \u001b[38;5;241m=\u001b[39m getvector(qdd, \u001b[38;5;28mself\u001b[39m\u001b[38;5;241m.\u001b[39mn, \u001b[38;5;124m\"\u001b[39m\u001b[38;5;124mrow\u001b[39m\u001b[38;5;124m\"\u001b[39m)\n\u001b[0;32m   1401\u001b[0m \u001b[38;5;28;01mexcept\u001b[39;00m \u001b[38;5;167;01mValueError\u001b[39;00m:\n\u001b[1;32m-> 1402\u001b[0m     trajn \u001b[38;5;241m=\u001b[39m \u001b[43mq\u001b[49m\u001b[38;5;241;43m.\u001b[39;49m\u001b[43mshape\u001b[49m[\u001b[38;5;241m0\u001b[39m]\n\u001b[0;32m   1403\u001b[0m     verifymatrix(q, (trajn, \u001b[38;5;28mself\u001b[39m\u001b[38;5;241m.\u001b[39mn))\n\u001b[0;32m   1404\u001b[0m     verifymatrix(qd, (trajn, \u001b[38;5;28mself\u001b[39m\u001b[38;5;241m.\u001b[39mn))\n",
      "\u001b[1;31mAttributeError\u001b[0m: 'list' object has no attribute 'shape'"
     ]
    }
   ],
   "source": [
    "robot.rne([0.2, 0.1, -0.015])"
   ]
  },
  {
   "cell_type": "code",
   "execution_count": null,
   "id": "0023771b",
   "metadata": {},
   "outputs": [],
   "source": []
  }
 ],
 "metadata": {
  "kernelspec": {
   "display_name": "Python 3 (ipykernel)",
   "language": "python",
   "name": "python3"
  },
  "language_info": {
   "codemirror_mode": {
    "name": "ipython",
    "version": 3
   },
   "file_extension": ".py",
   "mimetype": "text/x-python",
   "name": "python",
   "nbconvert_exporter": "python",
   "pygments_lexer": "ipython3",
   "version": "3.9.12"
  }
 },
 "nbformat": 4,
 "nbformat_minor": 5
}
