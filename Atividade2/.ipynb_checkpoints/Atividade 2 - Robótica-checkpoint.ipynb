{
 "cells": [
  {
   "cell_type": "code",
   "execution_count": 2,
   "id": "cec39cd1",
   "metadata": {},
   "outputs": [
    {
     "name": "stdout",
     "output_type": "stream",
     "text": [
      "Requirement already satisfied: roboticstoolbox-python in c:\\users\\ander\\anaconda3\\lib\\site-packages (1.0.1)\n",
      "Requirement already satisfied: progress in c:\\users\\ander\\anaconda3\\lib\\site-packages (from roboticstoolbox-python) (1.6)\n",
      "Requirement already satisfied: spatialmath-python~=1.0.0 in c:\\users\\ander\\anaconda3\\lib\\site-packages (from roboticstoolbox-python) (1.0.0)\n",
      "Requirement already satisfied: ansitable in c:\\users\\ander\\anaconda3\\lib\\site-packages (from roboticstoolbox-python) (0.9.6)\n",
      "Requirement already satisfied: spatialgeometry~=1.0.0 in c:\\users\\ander\\anaconda3\\lib\\site-packages (from roboticstoolbox-python) (1.0.1)\n",
      "Requirement already satisfied: numpy>=1.17.4 in c:\\users\\ander\\anaconda3\\lib\\site-packages (from roboticstoolbox-python) (1.21.5)\n",
      "Requirement already satisfied: matplotlib in c:\\users\\ander\\anaconda3\\lib\\site-packages (from roboticstoolbox-python) (3.5.1)\n",
      "Requirement already satisfied: rtb-data in c:\\users\\ander\\anaconda3\\lib\\site-packages (from roboticstoolbox-python) (1.0.0)\n",
      "Requirement already satisfied: scipy in c:\\users\\ander\\anaconda3\\lib\\site-packages (from roboticstoolbox-python) (1.7.3)\n",
      "Requirement already satisfied: swift-sim~=1.0.0 in c:\\users\\ander\\anaconda3\\lib\\site-packages (from roboticstoolbox-python) (1.0.0)\n",
      "Requirement already satisfied: pgraph-python in c:\\users\\ander\\anaconda3\\lib\\site-packages (from roboticstoolbox-python) (0.6.1)\n",
      "Requirement already satisfied: colored in c:\\users\\ander\\anaconda3\\lib\\site-packages (from spatialmath-python~=1.0.0->roboticstoolbox-python) (1.4.3)\n",
      "Requirement already satisfied: websockets in c:\\users\\ander\\anaconda3\\lib\\site-packages (from swift-sim~=1.0.0->roboticstoolbox-python) (10.3)\n",
      "Requirement already satisfied: pyparsing>=2.2.1 in c:\\users\\ander\\anaconda3\\lib\\site-packages (from matplotlib->roboticstoolbox-python) (3.0.4)\n",
      "Requirement already satisfied: kiwisolver>=1.0.1 in c:\\users\\ander\\anaconda3\\lib\\site-packages (from matplotlib->roboticstoolbox-python) (1.3.2)\n",
      "Requirement already satisfied: pillow>=6.2.0 in c:\\users\\ander\\anaconda3\\lib\\site-packages (from matplotlib->roboticstoolbox-python) (9.0.1)\n",
      "Requirement already satisfied: cycler>=0.10 in c:\\users\\ander\\anaconda3\\lib\\site-packages (from matplotlib->roboticstoolbox-python) (0.11.0)\n",
      "Requirement already satisfied: fonttools>=4.22.0 in c:\\users\\ander\\anaconda3\\lib\\site-packages (from matplotlib->roboticstoolbox-python) (4.25.0)\n",
      "Requirement already satisfied: packaging>=20.0 in c:\\users\\ander\\anaconda3\\lib\\site-packages (from matplotlib->roboticstoolbox-python) (21.3)\n",
      "Requirement already satisfied: python-dateutil>=2.7 in c:\\users\\ander\\anaconda3\\lib\\site-packages (from matplotlib->roboticstoolbox-python) (2.8.2)\n",
      "Requirement already satisfied: six>=1.5 in c:\\users\\ander\\anaconda3\\lib\\site-packages (from python-dateutil>=2.7->matplotlib->roboticstoolbox-python) (1.16.0)\n",
      "Note: you may need to restart the kernel to use updated packages.\n"
     ]
    }
   ],
   "source": [
    "pip install roboticstoolbox-python"
   ]
  },
  {
   "cell_type": "code",
   "execution_count": 4,
   "id": "808657e8",
   "metadata": {},
   "outputs": [
    {
     "name": "stdout",
     "output_type": "stream",
     "text": [
      "Requirement already satisfied: numpy in c:\\users\\ander\\anaconda3\\lib\\site-packages (1.22.4)\n",
      "Note: you may need to restart the kernel to use updated packages.\n"
     ]
    }
   ],
   "source": [
    "pip install numpy"
   ]
  },
  {
   "cell_type": "code",
   "execution_count": 3,
   "id": "db4e97cf",
   "metadata": {},
   "outputs": [],
   "source": [
    "'''IMPORTS'''\n",
    "%matplotlib Qt\n",
    "import roboticstoolbox as rtb\n",
    "import math\n",
    "\n",
    "'''CONSTANTES'''\n",
    "PI = math.pi"
   ]
  },
  {
   "cell_type": "code",
   "execution_count": 11,
   "id": "b0a674cd",
   "metadata": {},
   "outputs": [
    {
     "name": "stdout",
     "output_type": "stream",
     "text": [
      "DHRobot: Scara, 4 joints (RRRR), dynamics, standard DH parameters\n",
      "┌────┬──────┬───────┬────────┐\n",
      "│θⱼ  │  dⱼ  │  aⱼ   │   ⍺ⱼ   │\n",
      "├────┼──────┼───────┼────────┤\n",
      "│ q1 │    0 │ 0.475 │   0.0° │\n",
      "│ q2 │    0 │   0.4 │   0.0° │\n",
      "│ q3 │ 0.05 │     0 │ 180.0° │\n",
      "│ q4 │ 0.01 │     0 │   0.0° │\n",
      "└────┴──────┴───────┴────────┘\n",
      "\n",
      "┌─┬──┐\n",
      "└─┴──┘\n",
      "\n"
     ]
    },
    {
     "data": {
      "text/plain": [
       "PyPlot3D backend, t = 0.05, scene:\n",
       "  Scara"
      ]
     },
     "execution_count": 11,
     "metadata": {},
     "output_type": "execute_result"
    }
   ],
   "source": [
    "robot = rtb.DHRobot(\n",
    "    [\n",
    "        rtb.RevoluteDH(a=0.475),\n",
    "        rtb.RevoluteDH(a=0.4),\n",
    "        rtb.RevoluteDH(d=0.05, alpha=PI),\n",
    "        rtb.RevoluteDH(d=0.01)\n",
    "    ], name=\"Scara\")\n",
    "print(robot)\n",
    "robot.plot([0,0,0,0])"
   ]
  },
  {
   "cell_type": "code",
   "execution_count": 7,
   "id": "cdfba6de",
   "metadata": {},
   "outputs": [],
   "source": []
  },
  {
   "cell_type": "code",
   "execution_count": 10,
   "id": "9484632d",
   "metadata": {},
   "outputs": [
    {
     "name": "stdout",
     "output_type": "stream",
     "text": [
      "   1         0         0         0.4       \n",
      "   0        -1         0         0.475     \n",
      "   0         0        -1         0.05      \n",
      "   0         0         0         1         \n",
      "\n"
     ]
    },
    {
     "ename": "AttributeError",
     "evalue": "'float' object has no attribute 'lower'",
     "output_type": "error",
     "traceback": [
      "\u001b[1;31m---------------------------------------------------------------------------\u001b[0m",
      "\u001b[1;31mAttributeError\u001b[0m                            Traceback (most recent call last)",
      "Input \u001b[1;32mIn [10]\u001b[0m, in \u001b[0;36m<cell line: 2>\u001b[1;34m()\u001b[0m\n\u001b[0;32m      1\u001b[0m \u001b[38;5;28mprint\u001b[39m(T)\n\u001b[1;32m----> 2\u001b[0m \u001b[43mrobot\u001b[49m\u001b[38;5;241;43m.\u001b[39;49m\u001b[43mplot\u001b[49m\u001b[43m(\u001b[49m\u001b[43mPI\u001b[49m\u001b[38;5;241;43m/\u001b[39;49m\u001b[38;5;241;43m2\u001b[39;49m\u001b[43m,\u001b[49m\u001b[43m \u001b[49m\u001b[43mPI\u001b[49m\u001b[38;5;241;43m/\u001b[39;49m\u001b[38;5;241;43m2\u001b[39;49m\u001b[43m,\u001b[49m\u001b[43m \u001b[49m\u001b[38;5;241;43m0\u001b[39;49m\u001b[43m,\u001b[49m\u001b[43m \u001b[49m\u001b[38;5;241;43m0\u001b[39;49m\u001b[43m)\u001b[49m\n",
      "File \u001b[1;32m~\\anaconda3\\lib\\site-packages\\roboticstoolbox\\robot\\Robot.py:1567\u001b[0m, in \u001b[0;36mRobot.plot\u001b[1;34m(self, q, backend, block, dt, limits, vellipse, fellipse, fig, movie, loop, **kwargs)\u001b[0m\n\u001b[0;32m   1498\u001b[0m \u001b[38;5;124;03m\"\"\"\u001b[39;00m\n\u001b[0;32m   1499\u001b[0m \u001b[38;5;124;03mGraphical display and animation\u001b[39;00m\n\u001b[0;32m   1500\u001b[0m \n\u001b[1;32m   (...)\u001b[0m\n\u001b[0;32m   1562\u001b[0m \u001b[38;5;124;03m:seealso: :func:`teach`\u001b[39;00m\n\u001b[0;32m   1563\u001b[0m \u001b[38;5;124;03m\"\"\"\u001b[39;00m\n\u001b[0;32m   1565\u001b[0m env \u001b[38;5;241m=\u001b[39m \u001b[38;5;28;01mNone\u001b[39;00m\n\u001b[1;32m-> 1567\u001b[0m env \u001b[38;5;241m=\u001b[39m \u001b[38;5;28;43mself\u001b[39;49m\u001b[38;5;241;43m.\u001b[39;49m\u001b[43m_get_graphical_backend\u001b[49m\u001b[43m(\u001b[49m\u001b[43mbackend\u001b[49m\u001b[43m)\u001b[49m\n\u001b[0;32m   1569\u001b[0m q \u001b[38;5;241m=\u001b[39m getmatrix(q, (\u001b[38;5;28;01mNone\u001b[39;00m, \u001b[38;5;28mself\u001b[39m\u001b[38;5;241m.\u001b[39mn))\n\u001b[0;32m   1570\u001b[0m \u001b[38;5;28mself\u001b[39m\u001b[38;5;241m.\u001b[39mq \u001b[38;5;241m=\u001b[39m q[\u001b[38;5;241m0\u001b[39m, :]\n",
      "File \u001b[1;32m~\\anaconda3\\lib\\site-packages\\roboticstoolbox\\robot\\Robot.py:1429\u001b[0m, in \u001b[0;36mRobot._get_graphical_backend\u001b[1;34m(self, backend)\u001b[0m\n\u001b[0;32m   1426\u001b[0m             default \u001b[38;5;241m=\u001b[39m \u001b[38;5;124m\"\u001b[39m\u001b[38;5;124mpyplot\u001b[39m\u001b[38;5;124m\"\u001b[39m\n\u001b[0;32m   1428\u001b[0m \u001b[38;5;28;01mif\u001b[39;00m backend \u001b[38;5;129;01mis\u001b[39;00m \u001b[38;5;129;01mnot\u001b[39;00m \u001b[38;5;28;01mNone\u001b[39;00m:\n\u001b[1;32m-> 1429\u001b[0m     backend \u001b[38;5;241m=\u001b[39m \u001b[43mbackend\u001b[49m\u001b[38;5;241;43m.\u001b[39;49m\u001b[43mlower\u001b[49m()\n\u001b[0;32m   1431\u001b[0m \u001b[38;5;66;03m# find the right backend, modules are imported here on an as needs\u001b[39;00m\n\u001b[0;32m   1432\u001b[0m \u001b[38;5;66;03m# basis\u001b[39;00m\n\u001b[0;32m   1433\u001b[0m \u001b[38;5;28;01mif\u001b[39;00m backend \u001b[38;5;241m==\u001b[39m \u001b[38;5;124m\"\u001b[39m\u001b[38;5;124mswift\u001b[39m\u001b[38;5;124m\"\u001b[39m \u001b[38;5;129;01mor\u001b[39;00m default \u001b[38;5;241m==\u001b[39m \u001b[38;5;124m\"\u001b[39m\u001b[38;5;124mswift\u001b[39m\u001b[38;5;124m\"\u001b[39m:  \u001b[38;5;66;03m# pragma nocover\u001b[39;00m\n\u001b[0;32m   1434\u001b[0m     \u001b[38;5;66;03m# swift was requested, is it installed?\u001b[39;00m\n",
      "\u001b[1;31mAttributeError\u001b[0m: 'float' object has no attribute 'lower'"
     ]
    }
   ],
   "source": []
  },
  {
   "cell_type": "code",
   "execution_count": null,
   "id": "7476b1e9",
   "metadata": {},
   "outputs": [],
   "source": []
  }
 ],
 "metadata": {
  "kernelspec": {
   "display_name": "Python 3 (ipykernel)",
   "language": "python",
   "name": "python3"
  },
  "language_info": {
   "codemirror_mode": {
    "name": "ipython",
    "version": 3
   },
   "file_extension": ".py",
   "mimetype": "text/x-python",
   "name": "python",
   "nbconvert_exporter": "python",
   "pygments_lexer": "ipython3",
   "version": "3.9.12"
  }
 },
 "nbformat": 4,
 "nbformat_minor": 5
}
